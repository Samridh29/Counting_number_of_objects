{
 "cells": [
  {
   "cell_type": "markdown",
   "metadata": {},
   "source": [
    "<h1>Object Dectection</h1>\n",
    "<h2>Loading the libraries</h2>\n"
   ]
  },
  {
   "cell_type": "code",
   "execution_count": 2,
   "metadata": {},
   "outputs": [],
   "source": [
    "import imutils\n",
    "import cv2\n",
    "import numpy as np"
   ]
  },
  {
   "cell_type": "code",
   "execution_count": 3,
   "metadata": {},
   "outputs": [],
   "source": [
    "def displayImage(image, title): #functions that displays the image\n",
    "    cv2.imshow(title, image)\n",
    "    cv2.waitKey(0) #waits for a key to be pressed to close the window\n",
    "    cv2.destroyAllWindows()"
   ]
  },
  {
   "cell_type": "markdown",
   "metadata": {},
   "source": [
    "<h2>Loading the Image and Checking its dimesions</h2>\n"
   ]
  },
  {
   "cell_type": "code",
   "execution_count": 4,
   "metadata": {},
   "outputs": [
    {
     "name": "stdout",
     "output_type": "stream",
     "text": [
      "width=600, height=322, depth=3\n"
     ]
    }
   ],
   "source": [
    "image = cv2.imread(\"jp.png\")\n",
    "h,w,d=image.shape\n",
    "print(\"width={}, height={}, depth={}\".format(w, h, d))\n",
    "displayImage(image, \"Original Image\")"
   ]
  },
  {
   "cell_type": "markdown",
   "metadata": {},
   "source": [
    "<h2>Slicing and Cropping the image</h2>\n"
   ]
  },
  {
   "cell_type": "code",
   "execution_count": 3,
   "metadata": {},
   "outputs": [
    {
     "data": {
      "text/plain": [
       "101"
      ]
     },
     "execution_count": 3,
     "metadata": {},
     "output_type": "execute_result"
    }
   ],
   "source": [
    "#Slicing the image\n",
    "roi = image[60:160, 320:420] #region of interset=image[startY:endY, startX:endX]\n",
    "displayImage(roi, \"Region of Interest\")"
   ]
  },
  {
   "cell_type": "markdown",
   "metadata": {},
   "source": [
    "<h2> Resizing the image</h2>\n",
    "<h3>    Resizing the image without preserving the aspect ratio</h3>"
   ]
  },
  {
   "cell_type": "code",
   "execution_count": 4,
   "metadata": {},
   "outputs": [
    {
     "data": {
      "text/plain": [
       "32"
      ]
     },
     "execution_count": 4,
     "metadata": {},
     "output_type": "execute_result"
    }
   ],
   "source": [
    "resizid = cv2.resize(image, (200, 200))\n",
    "displayImage(resizid, \"Resized Image\")"
   ]
  },
  {
   "cell_type": "markdown",
   "metadata": {},
   "source": [
    "<h3> Resizing the image while preserving the aspect ratio</h3>\n"
   ]
  },
  {
   "cell_type": "code",
   "execution_count": 5,
   "metadata": {},
   "outputs": [
    {
     "data": {
      "text/plain": [
       "1"
      ]
     },
     "execution_count": 5,
     "metadata": {},
     "output_type": "execute_result"
    }
   ],
   "source": [
    "r = 300.0/ w\n",
    "dim = (300, int(h*r))\n",
    "resized = cv2.resize(image, dim)\n",
    "displayImage(resized, \"Resized Image\")"
   ]
  },
  {
   "cell_type": "markdown",
   "metadata": {},
   "source": [
    "<h2>Rotating the image</h2>"
   ]
  },
  {
   "cell_type": "code",
   "execution_count": 6,
   "metadata": {},
   "outputs": [
    {
     "data": {
      "text/plain": [
       "1"
      ]
     },
     "execution_count": 6,
     "metadata": {},
     "output_type": "execute_result"
    }
   ],
   "source": [
    "center = (w//2, h//2) #finds the center of the image\n",
    "M = cv2.getRotationMatrix2D(center, -45, 1.0) #Rotates the image by 45 degrees clockwise\n",
    "\n",
    "#Making sure that our image isn't clipped\n",
    "cos = np.abs(M[0, 0]) #finds the cosine of the angle\n",
    "sin = np.abs(M[0, 1]) #finds the sine of the angle\n",
    "\n",
    "#Computing the new Dimesions of the image\n",
    "nW = int((h*sin) + (w*cos))\n",
    "nH = int((h*cos) + (w*sin))\n",
    "\n",
    "#Adjusting the rotation matrix to take into account the translation\n",
    "M[0, 2] += (nW/2) - center[0]\n",
    "M[1, 2] += (nH/2) - center[1]\n",
    "\n",
    "rotatedImage = cv2.warpAffine(image, M, (nW,nH)) #wraps the image with the matrix M\n",
    "displayImage(rotatedImage, \"Rotated Image\")\n"
   ]
  },
  {
   "cell_type": "markdown",
   "metadata": {},
   "source": [
    "<h2>Smoothing the Image, i.e. blurring the image</h2>"
   ]
  },
  {
   "cell_type": "code",
   "execution_count": 7,
   "metadata": {},
   "outputs": [
    {
     "data": {
      "text/plain": [
       "32"
      ]
     },
     "execution_count": 7,
     "metadata": {},
     "output_type": "execute_result"
    }
   ],
   "source": [
    "#Applying Gaussian Blur\n",
    "blurred = cv2.GaussianBlur(image, (11,11), 0) #blurs the image with a kernel of size 11x11, higer the kernel size, more blurry the image\n",
    "displayImage(blurred, \"Blurred Image\")"
   ]
  },
  {
   "cell_type": "markdown",
   "metadata": {},
   "source": [
    "<h2>Drawing on an Image</h2>\n",
    "<p>These are in-place operations. This means we need to make a copy of the original image everytime we draw something on the image</p>"
   ]
  },
  {
   "cell_type": "code",
   "execution_count": 16,
   "metadata": {},
   "outputs": [],
   "source": [
    "output = image.copy()\n",
    "cv2.rectangle(output, (320, 30), (420, 160), (0,0,255), 2) #draws a rectangle on the image with border of 2 pixels\n",
    "displayImage(output, \"Rectangle\")\n",
    "#You can also draw lines and circles in a similar way\n",
    "cv2.line(output, (320, 30), (420, 160), (0,0,255), 5) #draws a line on the image with border of 2 pixels\n",
    "cv2.circle(output, (320, 30), 5, (0,0,255), -1) #draws a circle on the image with border of 2 pixels"
   ]
  },
  {
   "cell_type": "markdown",
   "metadata": {},
   "source": [
    "<h2>Overlaying text on images</h2>"
   ]
  },
  {
   "cell_type": "code",
   "execution_count": 6,
   "metadata": {},
   "outputs": [
    {
     "ename": "",
     "evalue": "",
     "output_type": "error",
     "traceback": [
      "\u001b[1;31mThe Kernel crashed while executing code in the the current cell or a previous cell. Please review the code in the cell(s) to identify a possible cause of the failure. Click <a href='https://aka.ms/vscodeJupyterKernelCrash'>here</a> for more info. View Jupyter <a href='command:jupyter.viewOutput'>log</a> for further details."
     ]
    }
   ],
   "source": [
    "output = image.copy()\n",
    "cv2.putText(image, \"OpenCV, Jurrasic Park\", (10, 25), cv2.FONT_HERSHEY_TRIPLEX, 0.7, (0, 255, 0), 2) #puts text on the image\n",
    "displayImage(output, \"Text\")"
   ]
  },
  {
   "cell_type": "code",
   "execution_count": null,
   "metadata": {},
   "outputs": [],
   "source": []
  }
 ],
 "metadata": {
  "kernelspec": {
   "display_name": "Python 3.9.0 64-bit",
   "language": "python",
   "name": "python3"
  },
  "language_info": {
   "codemirror_mode": {
    "name": "ipython",
    "version": 3
   },
   "file_extension": ".py",
   "mimetype": "text/x-python",
   "name": "python",
   "nbconvert_exporter": "python",
   "pygments_lexer": "ipython3",
   "version": "3.9.0"
  },
  "orig_nbformat": 4,
  "vscode": {
   "interpreter": {
    "hash": "aee8b7b246df8f9039afb4144a1f6fd8d2ca17a180786b69acc140d282b71a49"
   }
  }
 },
 "nbformat": 4,
 "nbformat_minor": 2
}
